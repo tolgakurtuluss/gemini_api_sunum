{
  "nbformat": 4,
  "nbformat_minor": 0,
  "metadata": {
    "colab": {
      "provenance": []
    },
    "kernelspec": {
      "name": "python3",
      "display_name": "Python 3"
    },
    "language_info": {
      "name": "python"
    }
  },
  "cells": [
    {
      "cell_type": "markdown",
      "source": [
        "# Set your API key"
      ],
      "metadata": {
        "id": "Tm0tUdowmYqC"
      }
    },
    {
      "cell_type": "code",
      "source": [
        "%env GEMINIAPIKEY = \"setyourapikeyhere\""
      ],
      "metadata": {
        "id": "CjYxpU4Cmpb1"
      },
      "execution_count": null,
      "outputs": []
    },
    {
      "cell_type": "markdown",
      "source": [
        "# CURL request\n"
      ],
      "metadata": {
        "id": "SYmKbalknScA"
      }
    },
    {
      "cell_type": "code",
      "source": [
        "import requests\n",
        "import os\n",
        "\n",
        "headers = {\n",
        "    'Content-Type': 'application/json',\n",
        "}\n",
        "\n",
        "params = {\n",
        "    'key': os.environ.get(\"GEMINIAPIKEY\"),\n",
        "}\n",
        "\n",
        "json_data = {\n",
        "    'contents': [\n",
        "        {\n",
        "            'parts': [\n",
        "                {\n",
        "                    'text': 'Explain how AI works',\n",
        "                },\n",
        "            ],\n",
        "        },\n",
        "    ],\n",
        "}\n",
        "\n",
        "response = requests.post(\n",
        "    'https://generativelanguage.googleapis.com/v1beta/models/gemini-2.0-flash:generateContent',\n",
        "    params=params,\n",
        "    headers=headers,\n",
        "    json=json_data,\n",
        ")\n",
        "\n",
        "print(response.json())"
      ],
      "metadata": {
        "colab": {
          "base_uri": "https://localhost:8080/"
        },
        "id": "E-msOxcHmXOA",
        "outputId": "ebdf6441-7e3d-4beb-f583-6fff7003a3bc"
      },
      "execution_count": 2,
      "outputs": [
        {
          "output_type": "stream",
          "name": "stdout",
          "text": [
            "{'candidates': [{'content': {'parts': [{'text': 'Explaining how AI works is a complex undertaking because \"AI\" itself is a very broad term. Think of it like asking \"How does transportation work?\" You\\'d need to specify if you\\'re talking about walking, driving, flying, or something else entirely.  Similarly, AI encompasses many different techniques.\\n\\nHowever, I can give you a high-level overview of the general principles and key components involved, and then break down some common types of AI.\\n\\n**Core Concepts Behind AI:**\\n\\nAt its core, AI aims to create systems that can perform tasks that typically require human intelligence. These tasks include:\\n\\n*   **Learning:**  Acquiring knowledge and improving performance over time through experience.\\n*   **Reasoning:**  Using logic and inference to solve problems and make decisions.\\n*   **Problem-Solving:**  Finding solutions to complex issues through analysis and strategic thinking.\\n*   **Perception:**  Interpreting sensory information from the environment (e.g., vision, sound, touch).\\n*   **Natural Language Processing (NLP):** Understanding and generating human language.\\n\\n**General Workflow of an AI System:**\\n\\nMost AI systems follow a general pattern:\\n\\n1.  **Data Input:**  The system is fed data. This can be anything from images and text to numerical values and sensor readings.  The quality and quantity of data are crucial for the AI\\'s performance.\\n\\n2.  **Data Processing:**  The data is pre-processed and transformed into a format suitable for the AI model.  This might involve cleaning the data, removing irrelevant information, and converting it into numerical representations.\\n\\n3.  **Model Training (Learning):**  This is the heart of many AI systems.  The AI model (often a complex algorithm) is trained on the pre-processed data.  The model learns patterns, relationships, and rules from the data.  The goal is to adjust the model\\'s internal parameters to minimize errors and maximize its ability to make accurate predictions or decisions on new, unseen data.\\n\\n4.  **Inference/Prediction:**  Once trained, the AI model can be used to make predictions or decisions on new, unseen data.  It uses the patterns it learned during training to analyze the new data and generate an output.\\n\\n5.  **Evaluation:**  The performance of the AI system is evaluated using various metrics.  This helps determine how well the system is performing and identify areas for improvement.\\n\\n6.  **Deployment:** The AI model is deployed into a real-world application.\\n\\n7. **Feedback Loop:** Often, the results of the AI\\'s actions are fed back into the system, allowing it to continue learning and improving over time.  This is especially true for reinforcement learning systems.\\n\\n**Key Components and Techniques:**\\n\\n*   **Algorithms:** These are sets of rules or instructions that the AI system follows to perform a specific task. Many different algorithms exist, each suited to different types of problems.\\n\\n*   **Data Structures:** These are ways of organizing and storing data efficiently. Choosing the right data structure can significantly impact the performance of an AI system.\\n\\n*   **Machine Learning (ML):**  A subset of AI that focuses on enabling systems to learn from data without being explicitly programmed.  ML algorithms are designed to identify patterns and make predictions.\\n\\n*   **Deep Learning (DL):** A subset of ML that uses artificial neural networks with multiple layers (hence \"deep\"). DL is particularly effective for tasks like image recognition, natural language processing, and speech recognition.\\n\\n*   **Neural Networks:**  Inspired by the structure of the human brain, neural networks are composed of interconnected nodes (neurons) that process and transmit information.  Different architectures of neural networks are used for different tasks.\\n\\n*   **Data:**  The fuel that powers AI.  The more high-quality data available, the better the AI system can learn and perform.\\n\\n**Common Types of AI and How They Work (Simplified):**\\n\\nHere\\'s a breakdown of some common types of AI:\\n\\n*   **Machine Learning (ML):**\\n\\n    *   **Supervised Learning:**  The AI is trained on labeled data (data where the correct output is known).  The AI learns to map inputs to outputs.\\n        *   **Example:**  Training an AI to recognize cats in images. You would provide the AI with a large dataset of images, each labeled as either \"cat\" or \"not cat.\" The AI learns to identify features that are associated with cats.\\n        *   **Algorithms:** Linear Regression, Logistic Regression, Support Vector Machines (SVM), Decision Trees, Random Forests, Naive Bayes.\\n\\n    *   **Unsupervised Learning:**  The AI is trained on unlabeled data.  The AI learns to find patterns and structures in the data.\\n        *   **Example:**  Clustering customers into different groups based on their purchasing behavior. The AI identifies groups of customers with similar characteristics without being told what the groups should be.\\n        *   **Algorithms:** K-Means Clustering, Hierarchical Clustering, Principal Component Analysis (PCA), Anomaly Detection.\\n\\n    *   **Reinforcement Learning:**  The AI learns by interacting with an environment and receiving rewards or penalties for its actions. The goal is to learn a policy that maximizes the cumulative reward.\\n        *   **Example:**  Training an AI to play a game like chess.  The AI tries different moves and receives a reward for winning and a penalty for losing. Over time, the AI learns which moves are most likely to lead to a win.\\n        *   **Algorithms:** Q-Learning, SARSA, Deep Q-Networks (DQN), Policy Gradients.\\n\\n*   **Deep Learning (DL):**\\n\\n    *   **Convolutional Neural Networks (CNNs):**  Excellent for image and video processing.  They use convolutional layers to extract features from images.\\n        *   **How it works:** CNNs break down an image into smaller patches and learn features within those patches. These features are then combined to identify objects and patterns in the image.\\n        *   **Example:** Image recognition, object detection, medical image analysis.\\n\\n    *   **Recurrent Neural Networks (RNNs):**  Designed to handle sequential data, such as text and audio.  They have a \"memory\" that allows them to remember past information.\\n        *   **How it works:** RNNs process data one element at a time, maintaining an internal state that represents the past history of the sequence. This allows them to capture dependencies and relationships between elements in the sequence.\\n        *   **Example:** Machine translation, speech recognition, time series analysis.\\n\\n    *   **Transformers:**  A more recent type of neural network architecture that has achieved state-of-the-art results in many NLP tasks.  They use attention mechanisms to focus on the most relevant parts of the input sequence.\\n        *   **How it works:** Transformers use attention mechanisms to weigh the importance of different parts of the input sequence when making predictions. This allows them to capture long-range dependencies and relationships in the data.\\n        *   **Example:** Machine translation, text summarization, question answering.  (Models like BERT, GPT-3, and larger language models are transformer-based.)\\n\\n*   **Natural Language Processing (NLP):**\\n\\n    *   Focuses on enabling computers to understand, interpret, and generate human language.\\n    *   **Techniques:**  Text analysis, sentiment analysis, machine translation, chatbot development, and question answering.\\n    *   **How it works:** NLP systems use various techniques, including statistical methods, machine learning, and deep learning, to process and understand language. They break down text into its constituent parts, analyze its structure and meaning, and generate new text based on the patterns they have learned.\\n\\n*   **Expert Systems:**\\n\\n    *   Rule-based systems that use a knowledge base and inference engine to solve problems in a specific domain.\\n    *   **How it works:** Expert systems acquire knowledge from human experts and encode it into a set of rules. When presented with a problem, the system uses its inference engine to apply the rules and derive a solution.\\n    *   **Example:** Medical diagnosis, financial planning, troubleshooting computer problems.\\n\\n**Important Considerations:**\\n\\n*   **Bias:** AI systems can inherit biases from the data they are trained on, leading to unfair or discriminatory outcomes.  It\\'s crucial to be aware of and mitigate bias in AI systems.\\n\\n*   **Explainability:**  Some AI models (especially deep learning models) are difficult to interpret, making it hard to understand why they make certain decisions.  Explainable AI (XAI) aims to make AI models more transparent and understandable.\\n\\n*   **Ethical Concerns:**  AI raises a number of ethical concerns, such as job displacement, privacy violations, and the potential for misuse.  It\\'s important to develop and use AI responsibly.\\n\\n**In Summary:**\\n\\nAI is a vast and rapidly evolving field that encompasses a wide range of techniques and applications. It involves training systems on data to enable them to learn, reason, solve problems, and make predictions. Understanding the core concepts and key components of AI is essential for navigating this exciting and transformative technology. I hope this breakdown provides a solid foundation for your understanding of how AI works. Remember to think of AI as a toolbox with many different tools, and the best tool depends on the problem you\\'re trying to solve.\\n'}], 'role': 'model'}, 'finishReason': 'STOP', 'citationMetadata': {'citationSources': [{'startIndex': 3529, 'endIndex': 3672}, {'startIndex': 5102, 'endIndex': 5223}, {'startIndex': 6810, 'endIndex': 7006, 'uri': 'https://github.com/Rupadevi143/FMML_LAB_MODULES'}]}, 'avgLogprobs': -0.27223239820830675}], 'usageMetadata': {'promptTokenCount': 4, 'candidatesTokenCount': 1960, 'totalTokenCount': 1964, 'promptTokensDetails': [{'modality': 'TEXT', 'tokenCount': 4}], 'candidatesTokensDetails': [{'modality': 'TEXT', 'tokenCount': 1960}]}, 'modelVersion': 'gemini-2.0-flash'}\n"
          ]
        }
      ]
    },
    {
      "cell_type": "markdown",
      "source": [
        "# Google SDK ile örnek"
      ],
      "metadata": {
        "id": "WFW1qiUbnU9V"
      }
    },
    {
      "cell_type": "code",
      "source": [
        "from google import genai\n",
        "\n",
        "client = genai.Client(api_key=os.environ.get(\"GEMINIAPIKEY\"))\n",
        "\n",
        "response = client.models.generate_content(\n",
        "    model=\"gemini-2.0-flash\",\n",
        "    contents=\"Explain how AI works\",\n",
        ")\n",
        "\n",
        "print(response.text)"
      ],
      "metadata": {
        "colab": {
          "base_uri": "https://localhost:8080/"
        },
        "id": "qr7sGlndm9Aq",
        "outputId": "64faf16c-4634-421f-f784-32b2009410c6"
      },
      "execution_count": 3,
      "outputs": [
        {
          "output_type": "stream",
          "name": "stdout",
          "text": [
            "Okay, let's break down how AI works, aiming for clarity without getting bogged down in overly technical details.\n",
            "\n",
            "**Core Idea: Mimicking Intelligence**\n",
            "\n",
            "At its heart, AI is about creating computer systems that can perform tasks that typically require human intelligence.  Think of things like:\n",
            "\n",
            "*   **Learning:**  Improving from experience.\n",
            "*   **Problem-solving:**  Finding solutions to complex issues.\n",
            "*   **Decision-making:**  Choosing the best course of action.\n",
            "*   **Understanding language:**  Interpreting and responding to text or speech.\n",
            "*   **Recognizing patterns:**  Identifying trends and relationships in data.\n",
            "\n",
            "AI achieves this by using algorithms and models that try to replicate these human-like abilities.\n",
            "\n",
            "**Key Concepts and Components:**\n",
            "\n",
            "1.  **Data:**  The fuel for AI.  AI systems learn from vast amounts of data.  The quality and quantity of data significantly impact performance.\n",
            "\n",
            "2.  **Algorithms:**  Sets of rules or instructions that a computer follows to perform a task. In AI, algorithms are designed to learn from data and make predictions or decisions.\n",
            "\n",
            "3.  **Models:**  Representations of patterns and relationships learned from the data. A model is the result of training an algorithm on a dataset. It's like a learned \"map\" that the AI uses to navigate new situations.\n",
            "\n",
            "4.  **Machine Learning (ML):  A Major Branch of AI**\n",
            "\n",
            "    *   **What it is:** Machine learning is a subset of AI that focuses on enabling systems to learn from data *without* being explicitly programmed for every possible scenario.\n",
            "    *   **How it works:**  Instead of telling a computer exactly how to solve a problem, you give it data and an ML algorithm, and the algorithm figures out how to solve the problem on its own.\n",
            "    *   **Types of Machine Learning:**\n",
            "\n",
            "        *   **Supervised Learning:**  The algorithm learns from labeled data (data where the correct answer is already known).  Think of it like learning with a teacher who provides feedback.  Examples:\n",
            "            *   **Classification:**  Categorizing data into different classes (e.g., identifying spam emails).\n",
            "            *   **Regression:**  Predicting a continuous value (e.g., predicting house prices).\n",
            "        *   **Unsupervised Learning:**  The algorithm learns from unlabeled data (data where the correct answer is *not* known).  It's like exploring data to discover hidden patterns.  Examples:\n",
            "            *   **Clustering:**  Grouping similar data points together (e.g., segmenting customers into different groups).\n",
            "            *   **Dimensionality Reduction:**  Reducing the number of variables in a dataset while preserving its essential information.\n",
            "        *   **Reinforcement Learning:**  The algorithm learns by interacting with an environment and receiving rewards or penalties for its actions.  Think of it like training a dog with treats and scoldings.  Examples:\n",
            "            *   Training game-playing AI (e.g., AlphaGo).\n",
            "            *   Robotics control.\n",
            "\n",
            "5.  **Deep Learning (DL):  A Subfield of Machine Learning**\n",
            "\n",
            "    *   **What it is:** Deep learning is a more advanced form of machine learning that uses artificial neural networks with many layers (hence \"deep\").\n",
            "    *   **How it works:** These deep neural networks can automatically learn complex features from data without requiring explicit feature engineering (where humans manually select the features to use).\n",
            "    *   **Neural Networks:**  Inspired by the structure of the human brain. They consist of interconnected nodes (neurons) organized in layers.\n",
            "    *   **Key Benefits:**  Deep learning excels at tasks like image recognition, natural language processing, and speech recognition, where it can automatically learn intricate patterns.\n",
            "\n",
            "**Simplified Workflow of Building an AI System (Especially Machine Learning based):**\n",
            "\n",
            "1.  **Data Collection:** Gather relevant data for the task.\n",
            "2.  **Data Preprocessing:** Clean and prepare the data. This might involve:\n",
            "    *   Handling missing values.\n",
            "    *   Converting data to a suitable format.\n",
            "    *   Scaling or normalizing data.\n",
            "3.  **Feature Engineering (Sometimes):**  Select or create features from the data that are most relevant to the task. (Less necessary with deep learning)\n",
            "4.  **Model Selection:** Choose an appropriate AI/ML algorithm or model architecture (e.g., a type of neural network).\n",
            "5.  **Training:**  Feed the preprocessed data into the chosen model. The model learns from the data and adjusts its internal parameters to improve its performance.\n",
            "6.  **Validation/Testing:** Evaluate the model's performance on a separate dataset to ensure it generalizes well to new, unseen data.  This helps to avoid *overfitting*, where the model learns the training data too well and performs poorly on new data.\n",
            "7.  **Deployment:**  Integrate the trained model into a real-world application.\n",
            "8.  **Monitoring and Maintenance:**  Continuously monitor the model's performance and retrain it with new data as needed to maintain its accuracy.\n",
            "\n",
            "**Examples of AI in Action:**\n",
            "\n",
            "*   **Spam Filters:** Use machine learning to identify and filter out spam emails.\n",
            "*   **Recommendation Systems:** Suggest products or movies based on your past behavior (e.g., Netflix, Amazon).\n",
            "*   **Self-Driving Cars:** Use computer vision and machine learning to navigate roads and avoid obstacles.\n",
            "*   **Virtual Assistants:** Understand and respond to your voice commands (e.g., Siri, Alexa, Google Assistant).\n",
            "*   **Medical Diagnosis:** Assist doctors in diagnosing diseases by analyzing medical images and patient data.\n",
            "*   **Fraud Detection:** Identify fraudulent transactions in real-time.\n",
            "*   **Chatbots:** Provide customer support or answer questions online.\n",
            "\n",
            "**Important Considerations:**\n",
            "\n",
            "*   **Bias:** AI models can inherit biases from the data they are trained on, leading to unfair or discriminatory outcomes.  It's crucial to address bias in data and algorithms.\n",
            "*   **Explainability:**  Some AI models, especially deep learning models, can be difficult to understand and explain.  This lack of transparency can raise concerns about accountability and trust.\n",
            "*   **Ethical Implications:**  AI raises important ethical questions about privacy, security, and the potential impact on jobs.\n",
            "\n",
            "**In Summary:**\n",
            "\n",
            "AI is a broad field that aims to create intelligent systems. Machine learning, and especially deep learning, are key techniques that enable AI systems to learn from data.  AI relies on algorithms, models, and vast amounts of data to perform tasks that typically require human intelligence.  While AI has tremendous potential, it's important to be aware of its limitations and ethical implications.\n",
            "\n",
            "I hope this explanation is helpful! Let me know if you have any further questions.\n",
            "\n"
          ]
        }
      ]
    },
    {
      "cell_type": "markdown",
      "source": [
        "# Text to image example"
      ],
      "metadata": {
        "id": "-Awz8YUvnyrM"
      }
    },
    {
      "cell_type": "code",
      "source": [
        "from google import genai\n",
        "from google.genai import types\n",
        "from PIL import Image\n",
        "from io import BytesIO\n",
        "import base64\n",
        "\n",
        "client = genai.Client(api_key=os.environ.get(\"GEMINIAPIKEY\"))\n",
        "\n",
        "contents = ('Hi, can you create a 3d rendered image of a horse '\n",
        "            'with wings and a top hat flying over a happy '\n",
        "            'futuristic scifi city with lots of greenery?')\n",
        "\n",
        "response = client.models.generate_content(\n",
        "    model=\"gemini-2.0-flash-exp-image-generation\",\n",
        "    contents=contents,\n",
        "    config=types.GenerateContentConfig(\n",
        "      response_modalities=['Text', 'Image']\n",
        "    )\n",
        ")\n",
        "\n",
        "for part in response.candidates[0].content.parts:\n",
        "  if part.text is not None:\n",
        "    print(part.text)\n",
        "  elif part.inline_data is not None:\n",
        "    image = Image.open(BytesIO((part.inline_data.data)))\n",
        "    image.save('gemini-native-image.png')\n",
        "    image.show()"
      ],
      "metadata": {
        "id": "lqnsrITHnbMs"
      },
      "execution_count": 4,
      "outputs": []
    },
    {
      "cell_type": "markdown",
      "source": [
        "# Image Editing with Gemini"
      ],
      "metadata": {
        "id": "pAFQEYbyovYV"
      }
    },
    {
      "cell_type": "code",
      "source": [
        "from google import genai\n",
        "from google.genai import types\n",
        "from PIL import Image\n",
        "from io import BytesIO\n",
        "\n",
        "import PIL.Image\n",
        "\n",
        "image = PIL.Image.open('/content/gemini-edited-image.png')\n",
        "\n",
        "client = genai.Client(api_key=os.environ.get(\"GEMINIAPIKEY\"))\n",
        "\n",
        "text_input = ('This is a picture of horse and llama.'\n",
        "            'Can you add a red dragon and donkey from Shrek movie? Make this scene a bit interesting.',)\n",
        "\n",
        "response = client.models.generate_content(\n",
        "    model=\"gemini-2.0-flash-exp-image-generation\",\n",
        "    contents=[text_input, image],\n",
        "    config=types.GenerateContentConfig(\n",
        "      response_modalities=['Text', 'Image']\n",
        "    )\n",
        ")\n",
        "\n",
        "for part in response.candidates[0].content.parts:\n",
        "  if part.text is not None:\n",
        "    print(part.text)\n",
        "  elif part.inline_data is not None:\n",
        "    image = Image.open(BytesIO(part.inline_data.data))\n",
        "    image.save('gemini-edited-image2.png')\n",
        "    image.show()"
      ],
      "metadata": {
        "id": "eQs9yIHtoUqr"
      },
      "execution_count": 7,
      "outputs": []
    },
    {
      "cell_type": "code",
      "source": [],
      "metadata": {
        "id": "GeoIn-gBqXPc"
      },
      "execution_count": null,
      "outputs": []
    }
  ]
}